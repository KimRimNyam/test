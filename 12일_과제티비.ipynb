{
  "nbformat": 4,
  "nbformat_minor": 0,
  "metadata": {
    "colab": {
      "provenance": [],
      "mount_file_id": "1dlTj6HLn8eK6j_2BzobxO9BOSRvzQgWQ",
      "authorship_tag": "ABX9TyNpzgszfg39q6Za2UCVTSB8",
      "include_colab_link": true
    },
    "kernelspec": {
      "name": "python3",
      "display_name": "Python 3"
    },
    "language_info": {
      "name": "python"
    }
  },
  "cells": [
    {
      "cell_type": "markdown",
      "metadata": {
        "id": "view-in-github",
        "colab_type": "text"
      },
      "source": [
        "<a href=\"https://colab.research.google.com/github/KimRimNyam/test/blob/main/12%EC%9D%BC_%EA%B3%BC%EC%A0%9C%ED%8B%B0%EB%B9%84.ipynb\" target=\"_parent\"><img src=\"https://colab.research.google.com/assets/colab-badge.svg\" alt=\"Open In Colab\"/></a>"
      ]
    },
    {
      "cell_type": "code",
      "execution_count": null,
      "metadata": {
        "colab": {
          "base_uri": "https://localhost:8080/",
          "height": 604
        },
        "id": "lW6fnvZRq26h",
        "outputId": "1feb24b5-9912-4b33-8ad3-18c65523d01d"
      },
      "outputs": [
        {
          "output_type": "stream",
          "name": "stdout",
          "text": [
            "[1, 4]\n",
            "[2, 7]\n"
          ]
        },
        {
          "output_type": "error",
          "ename": "KeyboardInterrupt",
          "evalue": "ignored",
          "traceback": [
            "\u001b[0;31m---------------------------------------------------------------------------\u001b[0m",
            "\u001b[0;31mKeyboardInterrupt\u001b[0m                         Traceback (most recent call last)",
            "\u001b[0;32m/usr/local/lib/python3.7/dist-packages/ipykernel/kernelbase.py\u001b[0m in \u001b[0;36m_input_request\u001b[0;34m(self, prompt, ident, parent, password)\u001b[0m\n\u001b[1;32m    728\u001b[0m             \u001b[0;32mtry\u001b[0m\u001b[0;34m:\u001b[0m\u001b[0;34m\u001b[0m\u001b[0;34m\u001b[0m\u001b[0m\n\u001b[0;32m--> 729\u001b[0;31m                 \u001b[0mident\u001b[0m\u001b[0;34m,\u001b[0m \u001b[0mreply\u001b[0m \u001b[0;34m=\u001b[0m \u001b[0mself\u001b[0m\u001b[0;34m.\u001b[0m\u001b[0msession\u001b[0m\u001b[0;34m.\u001b[0m\u001b[0mrecv\u001b[0m\u001b[0;34m(\u001b[0m\u001b[0mself\u001b[0m\u001b[0;34m.\u001b[0m\u001b[0mstdin_socket\u001b[0m\u001b[0;34m,\u001b[0m \u001b[0;36m0\u001b[0m\u001b[0;34m)\u001b[0m\u001b[0;34m\u001b[0m\u001b[0;34m\u001b[0m\u001b[0m\n\u001b[0m\u001b[1;32m    730\u001b[0m             \u001b[0;32mexcept\u001b[0m \u001b[0mException\u001b[0m\u001b[0;34m:\u001b[0m\u001b[0;34m\u001b[0m\u001b[0;34m\u001b[0m\u001b[0m\n",
            "\u001b[0;32m/usr/local/lib/python3.7/dist-packages/jupyter_client/session.py\u001b[0m in \u001b[0;36mrecv\u001b[0;34m(self, socket, mode, content, copy)\u001b[0m\n\u001b[1;32m    802\u001b[0m         \u001b[0;32mtry\u001b[0m\u001b[0;34m:\u001b[0m\u001b[0;34m\u001b[0m\u001b[0;34m\u001b[0m\u001b[0m\n\u001b[0;32m--> 803\u001b[0;31m             \u001b[0mmsg_list\u001b[0m \u001b[0;34m=\u001b[0m \u001b[0msocket\u001b[0m\u001b[0;34m.\u001b[0m\u001b[0mrecv_multipart\u001b[0m\u001b[0;34m(\u001b[0m\u001b[0mmode\u001b[0m\u001b[0;34m,\u001b[0m \u001b[0mcopy\u001b[0m\u001b[0;34m=\u001b[0m\u001b[0mcopy\u001b[0m\u001b[0;34m)\u001b[0m\u001b[0;34m\u001b[0m\u001b[0;34m\u001b[0m\u001b[0m\n\u001b[0m\u001b[1;32m    804\u001b[0m         \u001b[0;32mexcept\u001b[0m \u001b[0mzmq\u001b[0m\u001b[0;34m.\u001b[0m\u001b[0mZMQError\u001b[0m \u001b[0;32mas\u001b[0m \u001b[0me\u001b[0m\u001b[0;34m:\u001b[0m\u001b[0;34m\u001b[0m\u001b[0;34m\u001b[0m\u001b[0m\n",
            "\u001b[0;32m/usr/local/lib/python3.7/dist-packages/zmq/sugar/socket.py\u001b[0m in \u001b[0;36mrecv_multipart\u001b[0;34m(self, flags, copy, track)\u001b[0m\n\u001b[1;32m    624\u001b[0m         \"\"\"\n\u001b[0;32m--> 625\u001b[0;31m         \u001b[0mparts\u001b[0m \u001b[0;34m=\u001b[0m \u001b[0;34m[\u001b[0m\u001b[0mself\u001b[0m\u001b[0;34m.\u001b[0m\u001b[0mrecv\u001b[0m\u001b[0;34m(\u001b[0m\u001b[0mflags\u001b[0m\u001b[0;34m,\u001b[0m \u001b[0mcopy\u001b[0m\u001b[0;34m=\u001b[0m\u001b[0mcopy\u001b[0m\u001b[0;34m,\u001b[0m \u001b[0mtrack\u001b[0m\u001b[0;34m=\u001b[0m\u001b[0mtrack\u001b[0m\u001b[0;34m)\u001b[0m\u001b[0;34m]\u001b[0m\u001b[0;34m\u001b[0m\u001b[0;34m\u001b[0m\u001b[0m\n\u001b[0m\u001b[1;32m    626\u001b[0m         \u001b[0;31m# have first part already, only loop while more to receive\u001b[0m\u001b[0;34m\u001b[0m\u001b[0;34m\u001b[0m\u001b[0;34m\u001b[0m\u001b[0m\n",
            "\u001b[0;32mzmq/backend/cython/socket.pyx\u001b[0m in \u001b[0;36mzmq.backend.cython.socket.Socket.recv\u001b[0;34m()\u001b[0m\n",
            "\u001b[0;32mzmq/backend/cython/socket.pyx\u001b[0m in \u001b[0;36mzmq.backend.cython.socket.Socket.recv\u001b[0;34m()\u001b[0m\n",
            "\u001b[0;32mzmq/backend/cython/socket.pyx\u001b[0m in \u001b[0;36mzmq.backend.cython.socket._recv_copy\u001b[0;34m()\u001b[0m\n",
            "\u001b[0;32m/usr/local/lib/python3.7/dist-packages/zmq/backend/cython/checkrc.pxd\u001b[0m in \u001b[0;36mzmq.backend.cython.checkrc._check_rc\u001b[0;34m()\u001b[0m\n",
            "\u001b[0;31mKeyboardInterrupt\u001b[0m: ",
            "\nDuring handling of the above exception, another exception occurred:\n",
            "\u001b[0;31mKeyboardInterrupt\u001b[0m                         Traceback (most recent call last)",
            "\u001b[0;32m<ipython-input-1-4f9582863a40>\u001b[0m in \u001b[0;36m<module>\u001b[0;34m()\u001b[0m\n\u001b[1;32m     28\u001b[0m \u001b[0;31m# 문5> 2명의 점수를 입력받아 리스트에 저장한 후\u001b[0m\u001b[0;34m\u001b[0m\u001b[0;34m\u001b[0m\u001b[0;34m\u001b[0m\u001b[0m\n\u001b[1;32m     29\u001b[0m \u001b[0;31m# 리스트에 있는 원소들의 총점과 평균을 구하시오.\u001b[0m\u001b[0;34m\u001b[0m\u001b[0;34m\u001b[0m\u001b[0;34m\u001b[0m\u001b[0m\n\u001b[0;32m---> 30\u001b[0;31m \u001b[0ma\u001b[0m \u001b[0;34m=\u001b[0m \u001b[0mint\u001b[0m\u001b[0;34m(\u001b[0m \u001b[0minput\u001b[0m\u001b[0;34m(\u001b[0m\u001b[0;34m'점수1 입력: '\u001b[0m\u001b[0;34m)\u001b[0m \u001b[0;34m)\u001b[0m\u001b[0;34m\u001b[0m\u001b[0;34m\u001b[0m\u001b[0m\n\u001b[0m\u001b[1;32m     31\u001b[0m \u001b[0mb\u001b[0m \u001b[0;34m=\u001b[0m \u001b[0mint\u001b[0m\u001b[0;34m(\u001b[0m \u001b[0minput\u001b[0m\u001b[0;34m(\u001b[0m\u001b[0;34m'점수2 입력: '\u001b[0m\u001b[0;34m)\u001b[0m \u001b[0;34m)\u001b[0m\u001b[0;34m\u001b[0m\u001b[0;34m\u001b[0m\u001b[0m\n\u001b[1;32m     32\u001b[0m \u001b[0;34m\u001b[0m\u001b[0m\n",
            "\u001b[0;32m/usr/local/lib/python3.7/dist-packages/ipykernel/kernelbase.py\u001b[0m in \u001b[0;36mraw_input\u001b[0;34m(self, prompt)\u001b[0m\n\u001b[1;32m    702\u001b[0m             \u001b[0mself\u001b[0m\u001b[0;34m.\u001b[0m\u001b[0m_parent_ident\u001b[0m\u001b[0;34m,\u001b[0m\u001b[0;34m\u001b[0m\u001b[0;34m\u001b[0m\u001b[0m\n\u001b[1;32m    703\u001b[0m             \u001b[0mself\u001b[0m\u001b[0;34m.\u001b[0m\u001b[0m_parent_header\u001b[0m\u001b[0;34m,\u001b[0m\u001b[0;34m\u001b[0m\u001b[0;34m\u001b[0m\u001b[0m\n\u001b[0;32m--> 704\u001b[0;31m             \u001b[0mpassword\u001b[0m\u001b[0;34m=\u001b[0m\u001b[0;32mFalse\u001b[0m\u001b[0;34m,\u001b[0m\u001b[0;34m\u001b[0m\u001b[0;34m\u001b[0m\u001b[0m\n\u001b[0m\u001b[1;32m    705\u001b[0m         )\n\u001b[1;32m    706\u001b[0m \u001b[0;34m\u001b[0m\u001b[0m\n",
            "\u001b[0;32m/usr/local/lib/python3.7/dist-packages/ipykernel/kernelbase.py\u001b[0m in \u001b[0;36m_input_request\u001b[0;34m(self, prompt, ident, parent, password)\u001b[0m\n\u001b[1;32m    732\u001b[0m             \u001b[0;32mexcept\u001b[0m \u001b[0mKeyboardInterrupt\u001b[0m\u001b[0;34m:\u001b[0m\u001b[0;34m\u001b[0m\u001b[0;34m\u001b[0m\u001b[0m\n\u001b[1;32m    733\u001b[0m                 \u001b[0;31m# re-raise KeyboardInterrupt, to truncate traceback\u001b[0m\u001b[0;34m\u001b[0m\u001b[0;34m\u001b[0m\u001b[0;34m\u001b[0m\u001b[0m\n\u001b[0;32m--> 734\u001b[0;31m                 \u001b[0;32mraise\u001b[0m \u001b[0mKeyboardInterrupt\u001b[0m\u001b[0;34m\u001b[0m\u001b[0;34m\u001b[0m\u001b[0m\n\u001b[0m\u001b[1;32m    735\u001b[0m             \u001b[0;32melse\u001b[0m\u001b[0;34m:\u001b[0m\u001b[0;34m\u001b[0m\u001b[0;34m\u001b[0m\u001b[0m\n\u001b[1;32m    736\u001b[0m                 \u001b[0;32mbreak\u001b[0m\u001b[0;34m\u001b[0m\u001b[0;34m\u001b[0m\u001b[0m\n",
            "\u001b[0;31mKeyboardInterrupt\u001b[0m: "
          ]
        }
      ],
      "source": [
        "# 문1> 리스스 a에 모든 값이 1인 원소 100개를 저장시키고, 출력?\n",
        "\n",
        "a=[1]*2\n",
        "a\n",
        "\n",
        "# 문2> 4개의 원소, 1, 4, 2, 7을 저장하는 list a를 만들고, \n",
        "# a의 원소들을 크기순으로 정렬한 후, \n",
        "# 원소를 2개씩 나누어 새로운 두 개의 리스트에 저장하시오\n",
        "a = [1, 4, 2, 7]\n",
        "a.sort()\n",
        "b = a[::2]\n",
        "c = a[1::2]\n",
        "print(b)\n",
        "print(c)\n",
        "\n",
        "#문3> 2명의 학생에 대한 발표, 시험 성적이 a=[7, 5, 89, 82]일 때,\n",
        "#각 학생의 성적 [7,89], [5,82]를 추출하여 출력하시오.\n",
        "\n",
        "# 문4> 6개의 원소가 두 개의 리스트 a=[3, 5, 4], b=[1, 6, 2]에 나뉘어 저장되어 있다.\n",
        "# 두 list를 합친 후, 크기순으로 정렬한 결과를 출력하시오\n",
        "a = [3, 5, 4]\n",
        "b = [1, 6, 2]\n",
        "c = a+b\n",
        "c.sort()\n",
        "c.reverse()\n",
        "c\n",
        "\n",
        "# 문5> 2명의 점수를 입력받아 리스트에 저장한 후\n",
        "# 리스트에 있는 원소들의 총점과 평균을 구하시오.\n",
        "a = int( input('점수1 입력: ') )\n",
        "b = int( input('점수2 입력: ') )\n",
        "\n",
        "s = a+b\n",
        "avg = s/2\n",
        "print('총점=', s,    avg)\n",
        "\n",
        "a = []\n",
        "a = list(map(int, input('점수1 입력: ').split() ))\n",
        "#a.append(m); a.append(f)\n",
        "print(a)\n",
        "s = a[0] + a[1]\n",
        "avg = s/2\n",
        "print('총점=', s, '평균=' ,  avg)\n",
        "\n",
        "# 문6> 2명의 학생에 대한 중간, 기말 점수를 입력받아 각 학생의 평균을 구하시오.\n",
        "#a = [  [3,4] ,\n",
        "#       [5,6]   ]\n",
        "\n",
        "a = []\n",
        "\n",
        "m = int(  input('1번 중간:')   )\n",
        "f = int(  input('1번 기말:')   )\n",
        "a.append( [m,f] )\n",
        "\n",
        "print(a)\n",
        "\n",
        "m = int(  input('2번 중간:')   )\n",
        "f = int(  input('2번 기말:')   )\n",
        "a.append( [m,f] )\n",
        "\n",
        "print(a)\n",
        "\n",
        "avg1 = (a[0][0] + a[0][1] ) / 2\n",
        "avg2 = (a[1][0] + a[1][1] ) / 2\n",
        "\n",
        "print(avg1, avg2)\n",
        "\n",
        "# 과제> 2명의 학생에 대한 이름, 중간, 기말 점수를 입력받아 \n",
        "# 아래의 형식으로 출력하시오.\n",
        "# ===============================\n",
        "#    이름   중간   기말    평균\n",
        "# ===============================\n",
        "#    kim    80     81     80.5\n",
        "#    lee    90     91     90.5\n",
        "# ===============================\n",
        "# 전체평균   85     86     85.5"
      ]
    },
    {
      "cell_type": "code",
      "source": [
        "from google.colab import drive\n",
        "drive.mount('/content/drive')"
      ],
      "metadata": {
        "colab": {
          "base_uri": "https://localhost:8080/"
        },
        "id": "0DOm_lnEwKYT",
        "outputId": "234821b2-43fb-4a82-f145-6df9928398cf"
      },
      "execution_count": 1,
      "outputs": [
        {
          "output_type": "stream",
          "name": "stdout",
          "text": [
            "Mounted at /content/drive\n"
          ]
        }
      ]
    },
    {
      "cell_type": "code",
      "source": [
        "# 문1> 리스스 a에 모든 값이 1인 원소 100개를 저장시키고, 출력?\n",
        "\n",
        "a=[1]*100\n",
        "print(a)"
      ],
      "metadata": {
        "colab": {
          "base_uri": "https://localhost:8080/"
        },
        "id": "xLet7lq0rgYC",
        "outputId": "15a8bed5-466e-41a1-94dd-1beb06a8f3b6"
      },
      "execution_count": null,
      "outputs": [
        {
          "output_type": "stream",
          "name": "stdout",
          "text": [
            "[1, 1, 1, 1, 1, 1, 1, 1, 1, 1, 1, 1, 1, 1, 1, 1, 1, 1, 1, 1, 1, 1, 1, 1, 1, 1, 1, 1, 1, 1, 1, 1, 1, 1, 1, 1, 1, 1, 1, 1, 1, 1, 1, 1, 1, 1, 1, 1, 1, 1, 1, 1, 1, 1, 1, 1, 1, 1, 1, 1, 1, 1, 1, 1, 1, 1, 1, 1, 1, 1, 1, 1, 1, 1, 1, 1, 1, 1, 1, 1, 1, 1, 1, 1, 1, 1, 1, 1, 1, 1, 1, 1, 1, 1, 1, 1, 1, 1, 1, 1]\n"
          ]
        }
      ]
    },
    {
      "cell_type": "code",
      "source": [
        "# 문2> 4개의 원소, 1, 4, 2, 7을 저장하는 list a를 만들고, \n",
        "# a의 원소들을 크기순으로 정렬한 후, \n",
        "# 원소를 2개씩 나누어 새로운 두 개의 리스트에 저장하시오\n",
        "a = [1,4,2,7]\n",
        "a.sort()\n",
        "a_1 = a[::2]\n",
        "a_2 = a[1::2]\n",
        "print(a_1)\n",
        "print(a_2)"
      ],
      "metadata": {
        "colab": {
          "base_uri": "https://localhost:8080/"
        },
        "id": "2Nod4NA0r45o",
        "outputId": "b7968aa6-8086-4f60-eba7-da1c1948242f"
      },
      "execution_count": null,
      "outputs": [
        {
          "output_type": "stream",
          "name": "stdout",
          "text": [
            "[1, 4]\n",
            "[2, 7]\n"
          ]
        }
      ]
    },
    {
      "cell_type": "code",
      "source": [
        "#문3> 2명의 학생에 대한 발표, 시험 성적이 a=[7, 5, 89, 82]일 때,\n",
        "#각 학생의 성적 [7,89], [5,82]를 추출하여 출력하시오.\n",
        "a=[7, 5, 89, 82]\n",
        "b=a.copy()\n",
        "a.pop()\n",
        "a.pop(1)\n",
        "b.pop(0)\n",
        "b.pop(2)\n",
        "print(a)\n",
        "print(b)"
      ],
      "metadata": {
        "colab": {
          "base_uri": "https://localhost:8080/"
        },
        "id": "3NfiwrQVsYLR",
        "outputId": "fd2a57e4-5e4d-4670-a0fc-b44561cbcbb7"
      },
      "execution_count": null,
      "outputs": [
        {
          "output_type": "stream",
          "name": "stdout",
          "text": [
            "[7, 89]\n",
            "[5, 89]\n"
          ]
        }
      ]
    },
    {
      "cell_type": "code",
      "source": [
        "# 문4> 6개의 원소가 두 개의 리스트 a=[3, 5, 4], b=[1, 6, 2]에 나뉘어 저장되어 있다.\n",
        "# 두 list를 합친 후, 크기순으로 정렬한 결과를 출력하시오\n",
        "a=[3, 5, 4]\n",
        "b=[1, 6, 2]\n",
        "c=a+b\n",
        "c.sort()\n",
        "print(c)"
      ],
      "metadata": {
        "colab": {
          "base_uri": "https://localhost:8080/"
        },
        "id": "wTwK85U-toRY",
        "outputId": "684a9f9a-3286-4e99-e12a-7a693c95fa60"
      },
      "execution_count": null,
      "outputs": [
        {
          "output_type": "stream",
          "name": "stdout",
          "text": [
            "[1, 2, 3, 4, 5, 6]\n"
          ]
        }
      ]
    },
    {
      "cell_type": "code",
      "source": [
        "# 문5> 2명의 점수를 입력받아 리스트에 저장한 후\n",
        "# 리스트에 있는 원소들의 총점과 평균을 구하시오.\n",
        "x=list(map(int,input().split()))\n",
        "avg=sum(x)/len(x)\n",
        "print(sum(x))\n",
        "print(avg)"
      ],
      "metadata": {
        "colab": {
          "base_uri": "https://localhost:8080/"
        },
        "id": "SFLJM-xot1Ai",
        "outputId": "4671ec59-8322-438c-9eec-4fcad6dc4a3a"
      },
      "execution_count": null,
      "outputs": [
        {
          "output_type": "stream",
          "name": "stdout",
          "text": [
            "90 80\n",
            "170\n",
            "85.0\n"
          ]
        }
      ]
    },
    {
      "cell_type": "code",
      "source": [
        "# 문6> 2명의 학생에 대한 중간, 기말 점수를 입력받아 각 학생의 평균을 구하시오.\n",
        "#a = [  [3,4] ,\n",
        "#       [5,6]   ]\n",
        "x=[]\n",
        "a=int(input('중간:'))\n",
        "b=int(input('기말:'))\n",
        "x.append([a,b])\n",
        "c=int(input('중간:'))\n",
        "d=int(input('기말:'))\n",
        "x.append ([c,d])\n",
        "avg1=(x[0][0]+x[0][1])/2\n",
        "avg2=(x[1][0]+x[1][1])/2\n",
        "\n",
        "print(avg1, avg2)"
      ],
      "metadata": {
        "colab": {
          "base_uri": "https://localhost:8080/"
        },
        "id": "XxQ0F_IhvOZo",
        "outputId": "4fe2bc77-d831-4afe-f4a7-70a8639593e9"
      },
      "execution_count": null,
      "outputs": [
        {
          "output_type": "stream",
          "name": "stdout",
          "text": [
            "중간:90\n",
            "기말:80\n",
            "중간:70\n",
            "기말:99\n",
            "85.0 84.5\n"
          ]
        }
      ]
    },
    {
      "cell_type": "code",
      "source": [
        "# 과제> 2명의 학생에 대한 이름, 중간, 기말 점수를 입력받아 \n",
        "# 아래의 형식으로 출력하시오.\n",
        "# ===============================\n",
        "#    이름   중간   기말    평균\n",
        "# ===============================\n",
        "#    kim    80     81     80.5\n",
        "#    lee    90     91     90.5\n",
        "# ===============================\n",
        "# 전체평균   85     86     85.5\n",
        "x=str(input(\"이름 입력\"))\n",
        "y=str(input(\"이름 입력\"))\n",
        "a=list(map(int,input(\"중간기말\").split()))\n",
        "b=list(map(int,input(\"중간기말\").split()))\n",
        "avg_1=sum(a)/len(a)\n",
        "avg_2=sum(b)/len(b)\n",
        "print(avg_1,avg_2)\n",
        "\n",
        "\n",
        "\n",
        "\n",
        "\n",
        "\n",
        "\n",
        "#name=[a[0],b[0]]\n",
        "#middle=[a[1],b[1]]\n",
        "#last=[a[2],b[2]]\n",
        "#avg_1=[(a[1]+b[1])/2]\n",
        "#avg_1=[(a[1]+b[2])/2]"
      ],
      "metadata": {
        "colab": {
          "base_uri": "https://localhost:8080/"
        },
        "id": "bTogQqy2vsSa",
        "outputId": "8bb93a18-350b-41b7-d542-a14dc1c7035c"
      },
      "execution_count": null,
      "outputs": [
        {
          "output_type": "stream",
          "name": "stdout",
          "text": [
            "이름 입력r\n",
            "이름 입력k\n",
            "중간기말1 2\n",
            "중간기말3 5\n",
            "1.5 4.0\n"
          ]
        }
      ]
    }
  ]
}